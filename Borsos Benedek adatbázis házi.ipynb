{
    "metadata": {
        "kernelspec": {
            "name": "SQL",
            "display_name": "SQL",
            "language": "sql"
        },
        "language_info": {
            "name": "sql",
            "version": ""
        }
    },
    "nbformat_minor": 2,
    "nbformat": 4,
    "cells": [
        {
            "cell_type": "code",
            "source": [
                "-- Termek tábla sorainak száma\r\n",
                "SELECT COUNT(*) AS 'sorok száma'\r\n",
                "FROM Termek"
            ],
            "metadata": {
                "azdata_cell_guid": "e3c44fe9-ae67-4e1d-a521-30adf561e97f",
                "language": "sql"
            },
            "outputs": [
                {
                    "output_type": "display_data",
                    "data": {
                        "text/html": "(1 row affected)"
                    },
                    "metadata": {}
                },
                {
                    "output_type": "display_data",
                    "data": {
                        "text/html": "Total execution time: 00:00:00.011"
                    },
                    "metadata": {}
                },
                {
                    "output_type": "execute_result",
                    "execution_count": 2,
                    "data": {
                        "application/vnd.dataresource+json": {
                            "schema": {
                                "fields": [
                                    {
                                        "name": "sorok száma"
                                    }
                                ]
                            },
                            "data": [
                                {
                                    "sorok száma": "551"
                                }
                            ]
                        },
                        "text/html": "<table><tr><th>sorok száma</th></tr><tr><td>551</td></tr></table>"
                    },
                    "metadata": {}
                }
            ],
            "execution_count": 2
        },
        {
            "cell_type": "code",
            "source": [
                "-- LISTAAR minimuma, maximuma, átlaga\r\n",
                "SELECT MIN(LISTAAR) AS 'LISTAAR minimuma', \r\n",
                "       MAX(LISTAAR) AS 'LISTAAR maximuma', \r\n",
                "       AVG(LISTAAR) AS 'LISTAAR átlaga'\r\n",
                "FROM Termek\r\n",
                "WHERE LISTAAR IS NOT NULL"
            ],
            "metadata": {
                "azdata_cell_guid": "4ff58ee2-e36f-4da1-92d3-be9ac5b552bb",
                "language": "sql"
            },
            "outputs": [
                {
                    "output_type": "display_data",
                    "data": {
                        "text/html": "(1 row affected)"
                    },
                    "metadata": {}
                },
                {
                    "output_type": "display_data",
                    "data": {
                        "text/html": "Total execution time: 00:00:00.243"
                    },
                    "metadata": {}
                },
                {
                    "output_type": "execute_result",
                    "metadata": {},
                    "execution_count": 15,
                    "data": {
                        "application/vnd.dataresource+json": {
                            "schema": {
                                "fields": [
                                    {
                                        "name": "LISTAAR minimuma"
                                    },
                                    {
                                        "name": "LISTAAR maximuma"
                                    },
                                    {
                                        "name": "LISTAAR átlaga"
                                    }
                                ]
                            },
                            "data": [
                                {
                                    "LISTAAR minimuma": "0",
                                    "LISTAAR maximuma": "46000",
                                    "LISTAAR átlaga": "786,2813067150635"
                                }
                            ]
                        },
                        "text/html": [
                            "<table>",
                            "<tr><th>LISTAAR minimuma</th><th>LISTAAR maximuma</th><th>LISTAAR átlaga</th></tr>",
                            "<tr><td>0</td><td>46000</td><td>786,2813067150635</td></tr>",
                            "</table>"
                        ]
                    }
                }
            ],
            "execution_count": 15
        },
        {
            "cell_type": "code",
            "source": [
                "-- Készlet százalékos aránya\r\n",
                "SELECT \r\n",
                "    KESZLET, \r\n",
                "    COUNT(*) AS 'Darabszám',\r\n",
                "    (COUNT(*) * 100.0 / SUM(COUNT(*)) over()) AS 'százalékos aránya'\r\n",
                "FROM Termek\r\n",
                "GROUP BY KESZLET\r\n",
                "ORDER BY COUNT(*) DESC;"
            ],
            "metadata": {
                "azdata_cell_guid": "0a85864f-d47d-4987-a670-432d1bb6f2c3",
                "language": "sql"
            },
            "outputs": [
                {
                    "output_type": "display_data",
                    "data": {
                        "text/html": "(100 rows affected)"
                    },
                    "metadata": {}
                },
                {
                    "output_type": "display_data",
                    "data": {
                        "text/html": "Total execution time: 00:00:00.065"
                    },
                    "metadata": {}
                },
                {
                    "output_type": "execute_result",
                    "metadata": {},
                    "execution_count": 14,
                    "data": {
                        "application/vnd.dataresource+json": {
                            "schema": {
                                "fields": [
                                    {
                                        "name": "KESZLET"
                                    },
                                    {
                                        "name": "Darabszám"
                                    },
                                    {
                                        "name": "százalékos aránya"
                                    }
                                ]
                            },
                            "data": [
                                {
                                    "KESZLET": "100",
                                    "Darabszám": "107",
                                    "százalékos aránya": "19.419237749546"
                                },
                                {
                                    "KESZLET": "200",
                                    "Darabszám": "83",
                                    "százalékos aránya": "15.063520871143"
                                },
                                {
                                    "KESZLET": "300",
                                    "Darabszám": "46",
                                    "százalékos aránya": "8.348457350272"
                                },
                                {
                                    "KESZLET": "400",
                                    "Darabszám": "29",
                                    "százalékos aránya": "5.263157894736"
                                },
                                {
                                    "KESZLET": "500",
                                    "Darabszám": "27",
                                    "százalékos aránya": "4.900181488203"
                                },
                                {
                                    "KESZLET": "1000",
                                    "Darabszám": "21",
                                    "százalékos aránya": "3.811252268602"
                                },
                                {
                                    "KESZLET": "600",
                                    "Darabszám": "17",
                                    "százalékos aránya": "3.085299455535"
                                },
                                {
                                    "KESZLET": "900",
                                    "Darabszám": "17",
                                    "százalékos aránya": "3.085299455535"
                                },
                                {
                                    "KESZLET": "700",
                                    "Darabszám": "15",
                                    "százalékos aránya": "2.722323049001"
                                },
                                {
                                    "KESZLET": "2000",
                                    "Darabszám": "13",
                                    "százalékos aránya": "2.359346642468"
                                },
                                {
                                    "KESZLET": "1500",
                                    "Darabszám": "9",
                                    "százalékos aránya": "1.633393829401"
                                },
                                {
                                    "KESZLET": "800",
                                    "Darabszám": "8",
                                    "százalékos aránya": "1.451905626134"
                                },
                                {
                                    "KESZLET": "1100",
                                    "Darabszám": "7",
                                    "százalékos aránya": "1.270417422867"
                                },
                                {
                                    "KESZLET": "1200",
                                    "Darabszám": "6",
                                    "százalékos aránya": "1.088929219600"
                                },
                                {
                                    "KESZLET": "1300",
                                    "Darabszám": "6",
                                    "százalékos aránya": "1.088929219600"
                                },
                                {
                                    "KESZLET": "2600",
                                    "Darabszám": "6",
                                    "százalékos aránya": "1.088929219600"
                                },
                                {
                                    "KESZLET": "2200",
                                    "Darabszám": "5",
                                    "százalékos aránya": "0.907441016333"
                                },
                                {
                                    "KESZLET": "3000",
                                    "Darabszám": "5",
                                    "százalékos aránya": "0.907441016333"
                                },
                                {
                                    "KESZLET": "1600",
                                    "Darabszám": "5",
                                    "százalékos aránya": "0.907441016333"
                                },
                                {
                                    "KESZLET": "1900",
                                    "Darabszám": "5",
                                    "százalékos aránya": "0.907441016333"
                                },
                                {
                                    "KESZLET": "1800",
                                    "Darabszám": "4",
                                    "százalékos aránya": "0.725952813067"
                                },
                                {
                                    "KESZLET": "1400",
                                    "Darabszám": "4",
                                    "százalékos aránya": "0.725952813067"
                                },
                                {
                                    "KESZLET": "2500",
                                    "Darabszám": "4",
                                    "százalékos aránya": "0.725952813067"
                                },
                                {
                                    "KESZLET": "10000",
                                    "Darabszám": "4",
                                    "százalékos aránya": "0.725952813067"
                                },
                                {
                                    "KESZLET": "4400",
                                    "Darabszám": "3",
                                    "százalékos aránya": "0.544464609800"
                                },
                                {
                                    "KESZLET": "8000",
                                    "Darabszám": "3",
                                    "százalékos aránya": "0.544464609800"
                                },
                                {
                                    "KESZLET": "3600",
                                    "Darabszám": "3",
                                    "százalékos aránya": "0.544464609800"
                                },
                                {
                                    "KESZLET": "4000",
                                    "Darabszám": "3",
                                    "százalékos aránya": "0.544464609800"
                                },
                                {
                                    "KESZLET": "2300",
                                    "Darabszám": "3",
                                    "százalékos aránya": "0.544464609800"
                                },
                                {
                                    "KESZLET": "2400",
                                    "Darabszám": "2",
                                    "százalékos aránya": "0.362976406533"
                                },
                                {
                                    "KESZLET": "3500",
                                    "Darabszám": "2",
                                    "százalékos aránya": "0.362976406533"
                                },
                                {
                                    "KESZLET": "1700",
                                    "Darabszám": "2",
                                    "százalékos aránya": "0.362976406533"
                                },
                                {
                                    "KESZLET": "2100",
                                    "Darabszám": "2",
                                    "százalékos aránya": "0.362976406533"
                                },
                                {
                                    "KESZLET": "369",
                                    "Darabszám": "2",
                                    "százalékos aránya": "0.362976406533"
                                },
                                {
                                    "KESZLET": "0",
                                    "Darabszám": "2",
                                    "százalékos aránya": "0.362976406533"
                                },
                                {
                                    "KESZLET": "77",
                                    "Darabszám": "2",
                                    "százalékos aránya": "0.362976406533"
                                },
                                {
                                    "KESZLET": "9000",
                                    "Darabszám": "2",
                                    "százalékos aránya": "0.362976406533"
                                },
                                {
                                    "KESZLET": "5000",
                                    "Darabszám": "2",
                                    "százalékos aránya": "0.362976406533"
                                },
                                {
                                    "KESZLET": "3900",
                                    "Darabszám": "2",
                                    "százalékos aránya": "0.362976406533"
                                },
                                {
                                    "KESZLET": "50000",
                                    "Darabszám": "2",
                                    "százalékos aránya": "0.362976406533"
                                },
                                {
                                    "KESZLET": "6000",
                                    "Darabszám": "2",
                                    "százalékos aránya": "0.362976406533"
                                },
                                {
                                    "KESZLET": "6200",
                                    "Darabszám": "1",
                                    "százalékos aránya": "0.181488203266"
                                },
                                {
                                    "KESZLET": "6600",
                                    "Darabszám": "1",
                                    "százalékos aránya": "0.181488203266"
                                },
                                {
                                    "KESZLET": "6900",
                                    "Darabszám": "1",
                                    "százalékos aránya": "0.181488203266"
                                },
                                {
                                    "KESZLET": "7000",
                                    "Darabszám": "1",
                                    "százalékos aránya": "0.181488203266"
                                },
                                {
                                    "KESZLET": "7200",
                                    "Darabszám": "1",
                                    "százalékos aránya": "0.181488203266"
                                },
                                {
                                    "KESZLET": "7700",
                                    "Darabszám": "1",
                                    "százalékos aránya": "0.181488203266"
                                },
                                {
                                    "KESZLET": "4500",
                                    "Darabszám": "1",
                                    "százalékos aránya": "0.181488203266"
                                },
                                {
                                    "KESZLET": "4700",
                                    "Darabszám": "1",
                                    "százalékos aránya": "0.181488203266"
                                },
                                {
                                    "KESZLET": "4900",
                                    "Darabszám": "1",
                                    "százalékos aránya": "0.181488203266"
                                },
                                {
                                    "KESZLET": "12000",
                                    "Darabszám": "1",
                                    "százalékos aránya": "0.181488203266"
                                },
                                {
                                    "KESZLET": "12500",
                                    "Darabszám": "1",
                                    "százalékos aránya": "0.181488203266"
                                },
                                {
                                    "KESZLET": "15000",
                                    "Darabszám": "1",
                                    "százalékos aránya": "0.181488203266"
                                },
                                {
                                    "KESZLET": "22000",
                                    "Darabszám": "1",
                                    "százalékos aránya": "0.181488203266"
                                },
                                {
                                    "KESZLET": "25000",
                                    "Darabszám": "1",
                                    "százalékos aránya": "0.181488203266"
                                },
                                {
                                    "KESZLET": "26000",
                                    "Darabszám": "1",
                                    "százalékos aránya": "0.181488203266"
                                },
                                {
                                    "KESZLET": "30000",
                                    "Darabszám": "1",
                                    "százalékos aránya": "0.181488203266"
                                },
                                {
                                    "KESZLET": "35000",
                                    "Darabszám": "1",
                                    "százalékos aránya": "0.181488203266"
                                },
                                {
                                    "KESZLET": "40000",
                                    "Darabszám": "1",
                                    "százalékos aránya": "0.181488203266"
                                },
                                {
                                    "KESZLET": "5100",
                                    "Darabszám": "1",
                                    "százalékos aránya": "0.181488203266"
                                },
                                {
                                    "KESZLET": "5900",
                                    "Darabszám": "1",
                                    "százalékos aránya": "0.181488203266"
                                },
                                {
                                    "KESZLET": "78",
                                    "Darabszám": "1",
                                    "százalékos aránya": "0.181488203266"
                                },
                                {
                                    "KESZLET": "53",
                                    "Darabszám": "1",
                                    "százalékos aránya": "0.181488203266"
                                },
                                {
                                    "KESZLET": "323",
                                    "Darabszám": "1",
                                    "százalékos aránya": "0.181488203266"
                                },
                                {
                                    "KESZLET": "325",
                                    "Darabszám": "1",
                                    "százalékos aránya": "0.181488203266"
                                },
                                {
                                    "KESZLET": "328",
                                    "Darabszám": "1",
                                    "százalékos aránya": "0.181488203266"
                                },
                                {
                                    "KESZLET": "355",
                                    "Darabszám": "1",
                                    "százalékos aránya": "0.181488203266"
                                },
                                {
                                    "KESZLET": "373",
                                    "Darabszám": "1",
                                    "százalékos aránya": "0.181488203266"
                                },
                                {
                                    "KESZLET": "376",
                                    "Darabszám": "1",
                                    "százalékos aránya": "0.181488203266"
                                },
                                {
                                    "KESZLET": "381",
                                    "Darabszám": "1",
                                    "százalékos aránya": "0.181488203266"
                                },
                                {
                                    "KESZLET": "389",
                                    "Darabszám": "1",
                                    "százalékos aránya": "0.181488203266"
                                },
                                {
                                    "KESZLET": "396",
                                    "Darabszám": "1",
                                    "százalékos aránya": "0.181488203266"
                                },
                                {
                                    "KESZLET": "406",
                                    "Darabszám": "1",
                                    "százalékos aránya": "0.181488203266"
                                },
                                {
                                    "KESZLET": "449",
                                    "Darabszám": "1",
                                    "százalékos aránya": "0.181488203266"
                                },
                                {
                                    "KESZLET": "468",
                                    "Darabszám": "1",
                                    "százalékos aránya": "0.181488203266"
                                },
                                {
                                    "KESZLET": "470",
                                    "Darabszám": "1",
                                    "százalékos aránya": "0.181488203266"
                                },
                                {
                                    "KESZLET": "205",
                                    "Darabszám": "1",
                                    "százalékos aránya": "0.181488203266"
                                },
                                {
                                    "KESZLET": "229",
                                    "Darabszám": "1",
                                    "százalékos aránya": "0.181488203266"
                                },
                                {
                                    "KESZLET": "238",
                                    "Darabszám": "1",
                                    "százalékos aránya": "0.181488203266"
                                },
                                {
                                    "KESZLET": "264",
                                    "Darabszám": "1",
                                    "százalékos aránya": "0.181488203266"
                                },
                                {
                                    "KESZLET": "283",
                                    "Darabszám": "1",
                                    "százalékos aránya": "0.181488203266"
                                },
                                {
                                    "KESZLET": "289",
                                    "Darabszám": "1",
                                    "százalékos aránya": "0.181488203266"
                                },
                                {
                                    "KESZLET": "297",
                                    "Darabszám": "1",
                                    "százalékos aránya": "0.181488203266"
                                },
                                {
                                    "KESZLET": "105",
                                    "Darabszám": "1",
                                    "százalékos aránya": "0.181488203266"
                                },
                                {
                                    "KESZLET": "113",
                                    "Darabszám": "1",
                                    "százalékos aránya": "0.181488203266"
                                },
                                {
                                    "KESZLET": "119",
                                    "Darabszám": "1",
                                    "százalékos aránya": "0.181488203266"
                                },
                                {
                                    "KESZLET": "150",
                                    "Darabszám": "1",
                                    "százalékos aránya": "0.181488203266"
                                },
                                {
                                    "KESZLET": "162",
                                    "Darabszám": "1",
                                    "százalékos aránya": "0.181488203266"
                                },
                                {
                                    "KESZLET": "173",
                                    "Darabszám": "1",
                                    "százalékos aránya": "0.181488203266"
                                },
                                {
                                    "KESZLET": "182",
                                    "Darabszám": "1",
                                    "százalékos aránya": "0.181488203266"
                                },
                                {
                                    "KESZLET": "2010",
                                    "Darabszám": "1",
                                    "százalékos aránya": "0.181488203266"
                                },
                                {
                                    "KESZLET": "3700",
                                    "Darabszám": "1",
                                    "százalékos aránya": "0.181488203266"
                                },
                                {
                                    "KESZLET": "4100",
                                    "Darabszám": "1",
                                    "százalékos aránya": "0.181488203266"
                                },
                                {
                                    "KESZLET": "4200",
                                    "Darabszám": "1",
                                    "százalékos aránya": "0.181488203266"
                                },
                                {
                                    "KESZLET": "4300",
                                    "Darabszám": "1",
                                    "százalékos aránya": "0.181488203266"
                                },
                                {
                                    "KESZLET": "3100",
                                    "Darabszám": "1",
                                    "százalékos aránya": "0.181488203266"
                                },
                                {
                                    "KESZLET": "3200",
                                    "Darabszám": "1",
                                    "százalékos aránya": "0.181488203266"
                                },
                                {
                                    "KESZLET": "2700",
                                    "Darabszám": "1",
                                    "százalékos aránya": "0.181488203266"
                                },
                                {
                                    "KESZLET": "2800",
                                    "Darabszám": "1",
                                    "százalékos aránya": "0.181488203266"
                                },
                                {
                                    "KESZLET": "2900",
                                    "Darabszám": "1",
                                    "százalékos aránya": "0.181488203266"
                                }
                            ]
                        },
                        "text/html": [
                            "<table>",
                            "<tr><th>KESZLET</th><th>Darabszám</th><th>százalékos aránya</th></tr>",
                            "<tr><td>100</td><td>107</td><td>19.419237749546</td></tr>",
                            "<tr><td>200</td><td>83</td><td>15.063520871143</td></tr>",
                            "<tr><td>300</td><td>46</td><td>8.348457350272</td></tr>",
                            "<tr><td>400</td><td>29</td><td>5.263157894736</td></tr>",
                            "<tr><td>500</td><td>27</td><td>4.900181488203</td></tr>",
                            "<tr><td>1000</td><td>21</td><td>3.811252268602</td></tr>",
                            "<tr><td>600</td><td>17</td><td>3.085299455535</td></tr>",
                            "<tr><td>900</td><td>17</td><td>3.085299455535</td></tr>",
                            "<tr><td>700</td><td>15</td><td>2.722323049001</td></tr>",
                            "<tr><td>2000</td><td>13</td><td>2.359346642468</td></tr>",
                            "<tr><td>1500</td><td>9</td><td>1.633393829401</td></tr>",
                            "<tr><td>800</td><td>8</td><td>1.451905626134</td></tr>",
                            "<tr><td>1100</td><td>7</td><td>1.270417422867</td></tr>",
                            "<tr><td>1200</td><td>6</td><td>1.088929219600</td></tr>",
                            "<tr><td>1300</td><td>6</td><td>1.088929219600</td></tr>",
                            "<tr><td>2600</td><td>6</td><td>1.088929219600</td></tr>",
                            "<tr><td>2200</td><td>5</td><td>0.907441016333</td></tr>",
                            "<tr><td>3000</td><td>5</td><td>0.907441016333</td></tr>",
                            "<tr><td>1600</td><td>5</td><td>0.907441016333</td></tr>",
                            "<tr><td>1900</td><td>5</td><td>0.907441016333</td></tr>",
                            "<tr><td>1800</td><td>4</td><td>0.725952813067</td></tr>",
                            "<tr><td>1400</td><td>4</td><td>0.725952813067</td></tr>",
                            "<tr><td>2500</td><td>4</td><td>0.725952813067</td></tr>",
                            "<tr><td>10000</td><td>4</td><td>0.725952813067</td></tr>",
                            "<tr><td>4400</td><td>3</td><td>0.544464609800</td></tr>",
                            "<tr><td>8000</td><td>3</td><td>0.544464609800</td></tr>",
                            "<tr><td>3600</td><td>3</td><td>0.544464609800</td></tr>",
                            "<tr><td>4000</td><td>3</td><td>0.544464609800</td></tr>",
                            "<tr><td>2300</td><td>3</td><td>0.544464609800</td></tr>",
                            "<tr><td>2400</td><td>2</td><td>0.362976406533</td></tr>",
                            "<tr><td>3500</td><td>2</td><td>0.362976406533</td></tr>",
                            "<tr><td>1700</td><td>2</td><td>0.362976406533</td></tr>",
                            "<tr><td>2100</td><td>2</td><td>0.362976406533</td></tr>",
                            "<tr><td>369</td><td>2</td><td>0.362976406533</td></tr>",
                            "<tr><td>0</td><td>2</td><td>0.362976406533</td></tr>",
                            "<tr><td>77</td><td>2</td><td>0.362976406533</td></tr>",
                            "<tr><td>9000</td><td>2</td><td>0.362976406533</td></tr>",
                            "<tr><td>5000</td><td>2</td><td>0.362976406533</td></tr>",
                            "<tr><td>3900</td><td>2</td><td>0.362976406533</td></tr>",
                            "<tr><td>50000</td><td>2</td><td>0.362976406533</td></tr>",
                            "<tr><td>6000</td><td>2</td><td>0.362976406533</td></tr>",
                            "<tr><td>6200</td><td>1</td><td>0.181488203266</td></tr>",
                            "<tr><td>6600</td><td>1</td><td>0.181488203266</td></tr>",
                            "<tr><td>6900</td><td>1</td><td>0.181488203266</td></tr>",
                            "<tr><td>7000</td><td>1</td><td>0.181488203266</td></tr>",
                            "<tr><td>7200</td><td>1</td><td>0.181488203266</td></tr>",
                            "<tr><td>7700</td><td>1</td><td>0.181488203266</td></tr>",
                            "<tr><td>4500</td><td>1</td><td>0.181488203266</td></tr>",
                            "<tr><td>4700</td><td>1</td><td>0.181488203266</td></tr>",
                            "<tr><td>4900</td><td>1</td><td>0.181488203266</td></tr>",
                            "<tr><td>12000</td><td>1</td><td>0.181488203266</td></tr>",
                            "<tr><td>12500</td><td>1</td><td>0.181488203266</td></tr>",
                            "<tr><td>15000</td><td>1</td><td>0.181488203266</td></tr>",
                            "<tr><td>22000</td><td>1</td><td>0.181488203266</td></tr>",
                            "<tr><td>25000</td><td>1</td><td>0.181488203266</td></tr>",
                            "<tr><td>26000</td><td>1</td><td>0.181488203266</td></tr>",
                            "<tr><td>30000</td><td>1</td><td>0.181488203266</td></tr>",
                            "<tr><td>35000</td><td>1</td><td>0.181488203266</td></tr>",
                            "<tr><td>40000</td><td>1</td><td>0.181488203266</td></tr>",
                            "<tr><td>5100</td><td>1</td><td>0.181488203266</td></tr>",
                            "<tr><td>5900</td><td>1</td><td>0.181488203266</td></tr>",
                            "<tr><td>78</td><td>1</td><td>0.181488203266</td></tr>",
                            "<tr><td>53</td><td>1</td><td>0.181488203266</td></tr>",
                            "<tr><td>323</td><td>1</td><td>0.181488203266</td></tr>",
                            "<tr><td>325</td><td>1</td><td>0.181488203266</td></tr>",
                            "<tr><td>328</td><td>1</td><td>0.181488203266</td></tr>",
                            "<tr><td>355</td><td>1</td><td>0.181488203266</td></tr>",
                            "<tr><td>373</td><td>1</td><td>0.181488203266</td></tr>",
                            "<tr><td>376</td><td>1</td><td>0.181488203266</td></tr>",
                            "<tr><td>381</td><td>1</td><td>0.181488203266</td></tr>",
                            "<tr><td>389</td><td>1</td><td>0.181488203266</td></tr>",
                            "<tr><td>396</td><td>1</td><td>0.181488203266</td></tr>",
                            "<tr><td>406</td><td>1</td><td>0.181488203266</td></tr>",
                            "<tr><td>449</td><td>1</td><td>0.181488203266</td></tr>",
                            "<tr><td>468</td><td>1</td><td>0.181488203266</td></tr>",
                            "<tr><td>470</td><td>1</td><td>0.181488203266</td></tr>",
                            "<tr><td>205</td><td>1</td><td>0.181488203266</td></tr>",
                            "<tr><td>229</td><td>1</td><td>0.181488203266</td></tr>",
                            "<tr><td>238</td><td>1</td><td>0.181488203266</td></tr>",
                            "<tr><td>264</td><td>1</td><td>0.181488203266</td></tr>",
                            "<tr><td>283</td><td>1</td><td>0.181488203266</td></tr>",
                            "<tr><td>289</td><td>1</td><td>0.181488203266</td></tr>",
                            "<tr><td>297</td><td>1</td><td>0.181488203266</td></tr>",
                            "<tr><td>105</td><td>1</td><td>0.181488203266</td></tr>",
                            "<tr><td>113</td><td>1</td><td>0.181488203266</td></tr>",
                            "<tr><td>119</td><td>1</td><td>0.181488203266</td></tr>",
                            "<tr><td>150</td><td>1</td><td>0.181488203266</td></tr>",
                            "<tr><td>162</td><td>1</td><td>0.181488203266</td></tr>",
                            "<tr><td>173</td><td>1</td><td>0.181488203266</td></tr>",
                            "<tr><td>182</td><td>1</td><td>0.181488203266</td></tr>",
                            "<tr><td>2010</td><td>1</td><td>0.181488203266</td></tr>",
                            "<tr><td>3700</td><td>1</td><td>0.181488203266</td></tr>",
                            "<tr><td>4100</td><td>1</td><td>0.181488203266</td></tr>",
                            "<tr><td>4200</td><td>1</td><td>0.181488203266</td></tr>",
                            "<tr><td>4300</td><td>1</td><td>0.181488203266</td></tr>",
                            "<tr><td>3100</td><td>1</td><td>0.181488203266</td></tr>",
                            "<tr><td>3200</td><td>1</td><td>0.181488203266</td></tr>",
                            "<tr><td>2700</td><td>1</td><td>0.181488203266</td></tr>",
                            "<tr><td>2800</td><td>1</td><td>0.181488203266</td></tr>",
                            "<tr><td>2900</td><td>1</td><td>0.181488203266</td></tr>",
                            "</table>"
                        ]
                    }
                }
            ],
            "execution_count": 14
        },
        {
            "cell_type": "code",
            "source": [
                "-- Megnevezés húrhossz eloszlása\r\n",
                "SELECT LEN(MEGNEVEZES) AS 'megnevezés hosszúsága',\r\n",
                "       count(*) AS 'sorok száma'\r\n",
                "FROM Termek\r\n",
                "GROUP BY LEN(MEGNEVEZES)\r\n",
                "ORDER BY LEN(MEGNEVEZES) ASC, count(*) ASC"
            ],
            "metadata": {
                "azdata_cell_guid": "5ba82a18-5990-43e2-919e-352dbf14b568",
                "language": "sql"
            },
            "outputs": [
                {
                    "output_type": "display_data",
                    "data": {
                        "text/html": "(33 rows affected)"
                    },
                    "metadata": {}
                },
                {
                    "output_type": "display_data",
                    "data": {
                        "text/html": "Total execution time: 00:00:00.012"
                    },
                    "metadata": {}
                },
                {
                    "output_type": "execute_result",
                    "execution_count": 8,
                    "data": {
                        "application/vnd.dataresource+json": {
                            "schema": {
                                "fields": [
                                    {
                                        "name": "megnevezés hosszúsága"
                                    },
                                    {
                                        "name": "sorok száma"
                                    }
                                ]
                            },
                            "data": [
                                {
                                    "megnevezés hosszúsága": "3",
                                    "sorok száma": "2"
                                },
                                {
                                    "megnevezés hosszúsága": "5",
                                    "sorok száma": "2"
                                },
                                {
                                    "megnevezés hosszúsága": "6",
                                    "sorok száma": "1"
                                },
                                {
                                    "megnevezés hosszúsága": "7",
                                    "sorok száma": "2"
                                },
                                {
                                    "megnevezés hosszúsága": "8",
                                    "sorok száma": "5"
                                },
                                {
                                    "megnevezés hosszúsága": "9",
                                    "sorok száma": "8"
                                },
                                {
                                    "megnevezés hosszúsága": "10",
                                    "sorok száma": "15"
                                },
                                {
                                    "megnevezés hosszúsága": "11",
                                    "sorok száma": "18"
                                },
                                {
                                    "megnevezés hosszúsága": "12",
                                    "sorok száma": "23"
                                },
                                {
                                    "megnevezés hosszúsága": "13",
                                    "sorok száma": "30"
                                },
                                {
                                    "megnevezés hosszúsága": "14",
                                    "sorok száma": "35"
                                },
                                {
                                    "megnevezés hosszúsága": "15",
                                    "sorok száma": "32"
                                },
                                {
                                    "megnevezés hosszúsága": "16",
                                    "sorok száma": "42"
                                },
                                {
                                    "megnevezés hosszúsága": "17",
                                    "sorok száma": "32"
                                },
                                {
                                    "megnevezés hosszúsága": "18",
                                    "sorok száma": "38"
                                },
                                {
                                    "megnevezés hosszúsága": "19",
                                    "sorok száma": "37"
                                },
                                {
                                    "megnevezés hosszúsága": "20",
                                    "sorok száma": "35"
                                },
                                {
                                    "megnevezés hosszúsága": "21",
                                    "sorok száma": "37"
                                },
                                {
                                    "megnevezés hosszúsága": "22",
                                    "sorok száma": "26"
                                },
                                {
                                    "megnevezés hosszúsága": "23",
                                    "sorok száma": "20"
                                },
                                {
                                    "megnevezés hosszúsága": "24",
                                    "sorok száma": "29"
                                },
                                {
                                    "megnevezés hosszúsága": "25",
                                    "sorok száma": "16"
                                },
                                {
                                    "megnevezés hosszúsága": "26",
                                    "sorok száma": "12"
                                },
                                {
                                    "megnevezés hosszúsága": "27",
                                    "sorok száma": "10"
                                },
                                {
                                    "megnevezés hosszúsága": "28",
                                    "sorok száma": "8"
                                },
                                {
                                    "megnevezés hosszúsága": "29",
                                    "sorok száma": "11"
                                },
                                {
                                    "megnevezés hosszúsága": "30",
                                    "sorok száma": "11"
                                },
                                {
                                    "megnevezés hosszúsága": "31",
                                    "sorok száma": "5"
                                },
                                {
                                    "megnevezés hosszúsága": "32",
                                    "sorok száma": "1"
                                },
                                {
                                    "megnevezés hosszúsága": "33",
                                    "sorok száma": "2"
                                },
                                {
                                    "megnevezés hosszúsága": "36",
                                    "sorok száma": "2"
                                },
                                {
                                    "megnevezés hosszúsága": "39",
                                    "sorok száma": "2"
                                },
                                {
                                    "megnevezés hosszúsága": "40",
                                    "sorok száma": "2"
                                }
                            ]
                        },
                        "text/html": "<table><tr><th>megnevezés hosszúsága</th><th>sorok száma</th></tr><tr><td>3</td><td>2</td></tr><tr><td>5</td><td>2</td></tr><tr><td>6</td><td>1</td></tr><tr><td>7</td><td>2</td></tr><tr><td>8</td><td>5</td></tr><tr><td>9</td><td>8</td></tr><tr><td>10</td><td>15</td></tr><tr><td>11</td><td>18</td></tr><tr><td>12</td><td>23</td></tr><tr><td>13</td><td>30</td></tr><tr><td>14</td><td>35</td></tr><tr><td>15</td><td>32</td></tr><tr><td>16</td><td>42</td></tr><tr><td>17</td><td>32</td></tr><tr><td>18</td><td>38</td></tr><tr><td>19</td><td>37</td></tr><tr><td>20</td><td>35</td></tr><tr><td>21</td><td>37</td></tr><tr><td>22</td><td>26</td></tr><tr><td>23</td><td>20</td></tr><tr><td>24</td><td>29</td></tr><tr><td>25</td><td>16</td></tr><tr><td>26</td><td>12</td></tr><tr><td>27</td><td>10</td></tr><tr><td>28</td><td>8</td></tr><tr><td>29</td><td>11</td></tr><tr><td>30</td><td>11</td></tr><tr><td>31</td><td>5</td></tr><tr><td>32</td><td>1</td></tr><tr><td>33</td><td>2</td></tr><tr><td>36</td><td>2</td></tr><tr><td>39</td><td>2</td></tr><tr><td>40</td><td>2</td></tr></table>"
                    },
                    "metadata": {}
                }
            ],
            "execution_count": 8
        },
        {
            "cell_type": "code",
            "source": [
                "--Különböző értékek száma (LISTAAR, LEIRAS, MEGNEVEZES)\r\n",
                "SELECT  COUNT(DISTINCT LISTAAR) AS 'LISTAAR',\r\n",
                "        COUNT(DISTINCT LEIRAS) AS 'LEIRAS',\r\n",
                "        COUNT(DISTINCT MEGNEVEZES) AS 'MEGNEVEZES'\r\n",
                "FROM Termek"
            ],
            "metadata": {
                "language": "sql",
                "azdata_cell_guid": "ba024ab5-2f14-417a-85ea-aee23840e677"
            },
            "outputs": [
                {
                    "output_type": "display_data",
                    "data": {
                        "text/html": "Warning: Null value is eliminated by an aggregate or other SET operation."
                    },
                    "metadata": {}
                },
                {
                    "output_type": "display_data",
                    "data": {
                        "text/html": "(1 row affected)"
                    },
                    "metadata": {}
                },
                {
                    "output_type": "display_data",
                    "data": {
                        "text/html": "Total execution time: 00:00:00.103"
                    },
                    "metadata": {}
                },
                {
                    "output_type": "execute_result",
                    "metadata": {},
                    "execution_count": 11,
                    "data": {
                        "application/vnd.dataresource+json": {
                            "schema": {
                                "fields": [
                                    {
                                        "name": "LISTAAR"
                                    },
                                    {
                                        "name": "LEIRAS"
                                    },
                                    {
                                        "name": "MEGNEVEZES"
                                    }
                                ]
                            },
                            "data": [
                                {
                                    "LISTAAR": "220",
                                    "LEIRAS": "20",
                                    "MEGNEVEZES": "543"
                                }
                            ]
                        },
                        "text/html": [
                            "<table>",
                            "<tr><th>LISTAAR</th><th>LEIRAS</th><th>MEGNEVEZES</th></tr>",
                            "<tr><td>220</td><td>20</td><td>543</td></tr>",
                            "</table>"
                        ]
                    }
                }
            ],
            "execution_count": 11
        },
        {
            "cell_type": "code",
            "source": [
                "--NULL értékek száma (LISTAAR, LEIRAS, MEGNEVEZES)\r\n",
                "SELECT COUNT(*) AS 'SOROK',\r\n",
                "        SUM(CASE WHEN LISTAAR IS NULL THEN 1 ELSE 0 END) AS 'LISTAAR null értékei',\r\n",
                "        SUM(CASE WHEN LEIRAS IS NULL THEN 1 ELSE 0 END) AS 'LEIRAS null értékei',\r\n",
                "        SUM(CASE WHEN MEGNEVEZES IS NULL THEN 1 ELSE 0 END) AS 'MEGNEVEZES null értékei'\r\n",
                "FROM Termek"
            ],
            "metadata": {
                "azdata_cell_guid": "0c238fca-ccce-442f-9b37-f93c81da0217",
                "language": "sql",
                "tags": []
            },
            "outputs": [
                {
                    "output_type": "display_data",
                    "data": {
                        "text/html": "(1 row affected)"
                    },
                    "metadata": {}
                },
                {
                    "output_type": "display_data",
                    "data": {
                        "text/html": "Total execution time: 00:00:00.077"
                    },
                    "metadata": {}
                },
                {
                    "output_type": "execute_result",
                    "metadata": {},
                    "execution_count": 12,
                    "data": {
                        "application/vnd.dataresource+json": {
                            "schema": {
                                "fields": [
                                    {
                                        "name": "SOROK"
                                    },
                                    {
                                        "name": "LISTAAR null értékei"
                                    },
                                    {
                                        "name": "LEIRAS null értékei"
                                    },
                                    {
                                        "name": "MEGNEVEZES null értékei"
                                    }
                                ]
                            },
                            "data": [
                                {
                                    "SOROK": "551",
                                    "LISTAAR null értékei": "0",
                                    "LEIRAS null értékei": "527",
                                    "MEGNEVEZES null értékei": "0"
                                }
                            ]
                        },
                        "text/html": [
                            "<table>",
                            "<tr><th>SOROK</th><th>LISTAAR null értékei</th><th>LEIRAS null értékei</th><th>MEGNEVEZES null értékei</th></tr>",
                            "<tr><td>551</td><td>0</td><td>527</td><td>0</td></tr>",
                            "</table>"
                        ]
                    }
                }
            ],
            "execution_count": 12
        },
        {
            "cell_type": "code",
            "source": [
                "-- LISTAAR értékeinek eloszlása\r\n",
                "SELECT LISTAAR AS 'Ár', COUNT(*) AS 'LISTAAR értékeinek eloszlása'\r\n",
                "FROM Termek\r\n",
                "GROUP BY LISTAAR\r\n",
                "ORDER BY COUNT(*) DESC"
            ],
            "metadata": {
                "azdata_cell_guid": "b4514fd3-f28b-487b-b5fd-e7e7681655d1",
                "language": "sql"
            },
            "outputs": [
                {
                    "output_type": "display_data",
                    "data": {
                        "text/html": "(220 rows affected)"
                    },
                    "metadata": {}
                },
                {
                    "output_type": "display_data",
                    "data": {
                        "text/html": "Total execution time: 00:00:00.074"
                    },
                    "metadata": {}
                },
                {
                    "output_type": "execute_result",
                    "execution_count": 17,
                    "data": {
                        "application/vnd.dataresource+json": {
                            "schema": {
                                "fields": [
                                    {
                                        "name": "Ár"
                                    },
                                    {
                                        "name": "LISTAAR értékeinek eloszlása"
                                    }
                                ]
                            },
                            "data": [
                                {
                                    "Ár": "30",
                                    "LISTAAR értékeinek eloszlása": "16"
                                },
                                {
                                    "Ár": "44",
                                    "LISTAAR értékeinek eloszlása": "16"
                                },
                                {
                                    "Ár": "89",
                                    "LISTAAR értékeinek eloszlása": "15"
                                },
                                {
                                    "Ár": "15",
                                    "LISTAAR értékeinek eloszlása": "14"
                                },
                                {
                                    "Ár": "103",
                                    "LISTAAR értékeinek eloszlása": "12"
                                },
                                {
                                    "Ár": "161",
                                    "LISTAAR értékeinek eloszlása": "12"
                                },
                                {
                                    "Ár": "36",
                                    "LISTAAR értékeinek eloszlása": "10"
                                },
                                {
                                    "Ár": "40",
                                    "LISTAAR értékeinek eloszlása": "9"
                                },
                                {
                                    "Ár": "23",
                                    "LISTAAR értékeinek eloszlása": "9"
                                },
                                {
                                    "Ár": "81",
                                    "LISTAAR értékeinek eloszlása": "9"
                                },
                                {
                                    "Ár": "133",
                                    "LISTAAR értékeinek eloszlása": "9"
                                },
                                {
                                    "Ár": "55",
                                    "LISTAAR értékeinek eloszlása": "8"
                                },
                                {
                                    "Ár": "59",
                                    "LISTAAR értékeinek eloszlása": "8"
                                },
                                {
                                    "Ár": "19",
                                    "LISTAAR értékeinek eloszlása": "8"
                                },
                                {
                                    "Ár": "11",
                                    "LISTAAR értékeinek eloszlása": "7"
                                },
                                {
                                    "Ár": "48",
                                    "LISTAAR értékeinek eloszlása": "7"
                                },
                                {
                                    "Ár": "33",
                                    "LISTAAR értékeinek eloszlása": "7"
                                },
                                {
                                    "Ár": "148",
                                    "LISTAAR értékeinek eloszlása": "7"
                                },
                                {
                                    "Ár": "144",
                                    "LISTAAR értékeinek eloszlása": "6"
                                },
                                {
                                    "Ár": "8",
                                    "LISTAAR értékeinek eloszlása": "6"
                                },
                                {
                                    "Ár": "26",
                                    "LISTAAR értékeinek eloszlása": "6"
                                },
                                {
                                    "Ár": "73",
                                    "LISTAAR értékeinek eloszlása": "6"
                                },
                                {
                                    "Ár": "74",
                                    "LISTAAR értékeinek eloszlása": "5"
                                },
                                {
                                    "Ár": "78",
                                    "LISTAAR értékeinek eloszlása": "5"
                                },
                                {
                                    "Ár": "63",
                                    "LISTAAR értékeinek eloszlása": "5"
                                },
                                {
                                    "Ár": "106",
                                    "LISTAAR értékeinek eloszlása": "5"
                                },
                                {
                                    "Ár": "110",
                                    "LISTAAR értékeinek eloszlása": "5"
                                },
                                {
                                    "Ár": "728",
                                    "LISTAAR értékeinek eloszlása": "5"
                                },
                                {
                                    "Ár": "93",
                                    "LISTAAR értékeinek eloszlása": "4"
                                },
                                {
                                    "Ár": "56",
                                    "LISTAAR értékeinek eloszlása": "4"
                                },
                                {
                                    "Ár": "66",
                                    "LISTAAR értékeinek eloszlása": "4"
                                },
                                {
                                    "Ár": "24",
                                    "LISTAAR értékeinek eloszlása": "4"
                                },
                                {
                                    "Ár": "34",
                                    "LISTAAR értékeinek eloszlása": "4"
                                },
                                {
                                    "Ár": "39",
                                    "LISTAAR értékeinek eloszlása": "4"
                                },
                                {
                                    "Ár": "51",
                                    "LISTAAR értékeinek eloszlása": "4"
                                },
                                {
                                    "Ár": "169",
                                    "LISTAAR értékeinek eloszlása": "4"
                                },
                                {
                                    "Ár": "180",
                                    "LISTAAR értékeinek eloszlása": "4"
                                },
                                {
                                    "Ár": "214",
                                    "LISTAAR értékeinek eloszlása": "4"
                                },
                                {
                                    "Ár": "228",
                                    "LISTAAR értékeinek eloszlása": "4"
                                },
                                {
                                    "Ár": "390",
                                    "LISTAAR értékeinek eloszlása": "4"
                                },
                                {
                                    "Ár": "324",
                                    "LISTAAR értékeinek eloszlása": "3"
                                },
                                {
                                    "Ár": "403",
                                    "LISTAAR értékeinek eloszlása": "3"
                                },
                                {
                                    "Ár": "440",
                                    "LISTAAR értékeinek eloszlása": "3"
                                },
                                {
                                    "Ár": "206",
                                    "LISTAAR értékeinek eloszlása": "3"
                                },
                                {
                                    "Ár": "195",
                                    "LISTAAR értékeinek eloszlása": "3"
                                },
                                {
                                    "Ár": "184",
                                    "LISTAAR értékeinek eloszlása": "3"
                                },
                                {
                                    "Ár": "185",
                                    "LISTAAR értékeinek eloszlása": "3"
                                },
                                {
                                    "Ár": "176",
                                    "LISTAAR értékeinek eloszlása": "3"
                                },
                                {
                                    "Ár": "155",
                                    "LISTAAR értékeinek eloszlása": "3"
                                },
                                {
                                    "Ár": "140",
                                    "LISTAAR értékeinek eloszlása": "3"
                                },
                                {
                                    "Ár": "125",
                                    "LISTAAR értékeinek eloszlása": "3"
                                },
                                {
                                    "Ár": "129",
                                    "LISTAAR értékeinek eloszlása": "3"
                                },
                                {
                                    "Ár": "49",
                                    "LISTAAR értékeinek eloszlása": "3"
                                },
                                {
                                    "Ár": "14",
                                    "LISTAAR értékeinek eloszlása": "3"
                                },
                                {
                                    "Ár": "35",
                                    "LISTAAR értékeinek eloszlása": "3"
                                },
                                {
                                    "Ár": "20",
                                    "LISTAAR értékeinek eloszlása": "3"
                                },
                                {
                                    "Ár": "9",
                                    "LISTAAR értékeinek eloszlása": "3"
                                },
                                {
                                    "Ár": "3",
                                    "LISTAAR értékeinek eloszlása": "3"
                                },
                                {
                                    "Ár": "58",
                                    "LISTAAR értékeinek eloszlása": "3"
                                },
                                {
                                    "Ár": "118",
                                    "LISTAAR értékeinek eloszlása": "3"
                                },
                                {
                                    "Ár": "1089",
                                    "LISTAAR értékeinek eloszlása": "3"
                                },
                                {
                                    "Ár": "3900",
                                    "LISTAAR értékeinek eloszlása": "2"
                                },
                                {
                                    "Ár": "990",
                                    "LISTAAR értékeinek eloszlása": "2"
                                },
                                {
                                    "Ár": "4990",
                                    "LISTAAR értékeinek eloszlása": "2"
                                },
                                {
                                    "Ár": "6900",
                                    "LISTAAR értékeinek eloszlása": "2"
                                },
                                {
                                    "Ár": "7900",
                                    "LISTAAR értékeinek eloszlása": "2"
                                },
                                {
                                    "Ár": "8000",
                                    "LISTAAR értékeinek eloszlása": "2"
                                },
                                {
                                    "Ár": "8900",
                                    "LISTAAR értékeinek eloszlása": "2"
                                },
                                {
                                    "Ár": "16900",
                                    "LISTAAR értékeinek eloszlása": "2"
                                },
                                {
                                    "Ár": "203",
                                    "LISTAAR értékeinek eloszlása": "2"
                                },
                                {
                                    "Ár": "434",
                                    "LISTAAR értékeinek eloszlása": "2"
                                },
                                {
                                    "Ár": "508",
                                    "LISTAAR értékeinek eloszlása": "2"
                                },
                                {
                                    "Ár": "526",
                                    "LISTAAR értékeinek eloszlása": "2"
                                },
                                {
                                    "Ár": "655",
                                    "LISTAAR értékeinek eloszlása": "2"
                                },
                                {
                                    "Ár": "765",
                                    "LISTAAR értékeinek eloszlása": "2"
                                },
                                {
                                    "Ár": "1290",
                                    "LISTAAR értékeinek eloszlása": "2"
                                },
                                {
                                    "Ár": "121",
                                    "LISTAAR értékeinek eloszlása": "2"
                                },
                                {
                                    "Ár": "114",
                                    "LISTAAR értékeinek eloszlása": "2"
                                },
                                {
                                    "Ár": "115",
                                    "LISTAAR értékeinek eloszlása": "2"
                                },
                                {
                                    "Ár": "94",
                                    "LISTAAR értékeinek eloszlása": "2"
                                },
                                {
                                    "Ár": "95",
                                    "LISTAAR értékeinek eloszlása": "2"
                                },
                                {
                                    "Ár": "80",
                                    "LISTAAR értékeinek eloszlása": "2"
                                },
                                {
                                    "Ár": "101",
                                    "LISTAAR értékeinek eloszlása": "2"
                                },
                                {
                                    "Ár": "61",
                                    "LISTAAR értékeinek eloszlása": "2"
                                },
                                {
                                    "Ár": "65",
                                    "LISTAAR értékeinek eloszlása": "2"
                                },
                                {
                                    "Ár": "4",
                                    "LISTAAR értékeinek eloszlása": "2"
                                },
                                {
                                    "Ár": "6",
                                    "LISTAAR értékeinek eloszlása": "2"
                                },
                                {
                                    "Ár": "10",
                                    "LISTAAR értékeinek eloszlása": "2"
                                },
                                {
                                    "Ár": "18",
                                    "LISTAAR értékeinek eloszlása": "2"
                                },
                                {
                                    "Ár": "25",
                                    "LISTAAR értékeinek eloszlása": "2"
                                },
                                {
                                    "Ár": "53",
                                    "LISTAAR értékeinek eloszlása": "2"
                                },
                                {
                                    "Ár": "45",
                                    "LISTAAR értékeinek eloszlása": "2"
                                },
                                {
                                    "Ár": "46",
                                    "LISTAAR értékeinek eloszlása": "2"
                                },
                                {
                                    "Ár": "175",
                                    "LISTAAR értékeinek eloszlása": "2"
                                },
                                {
                                    "Ár": "210",
                                    "LISTAAR értékeinek eloszlása": "2"
                                },
                                {
                                    "Ár": "218",
                                    "LISTAAR értékeinek eloszlása": "2"
                                },
                                {
                                    "Ár": "411",
                                    "LISTAAR értékeinek eloszlása": "2"
                                },
                                {
                                    "Ár": "360",
                                    "LISTAAR értékeinek eloszlása": "2"
                                },
                                {
                                    "Ár": "240",
                                    "LISTAAR értékeinek eloszlása": "2"
                                },
                                {
                                    "Ár": "243",
                                    "LISTAAR értékeinek eloszlása": "2"
                                },
                                {
                                    "Ár": "273",
                                    "LISTAAR értékeinek eloszlása": "2"
                                },
                                {
                                    "Ár": "276",
                                    "LISTAAR értékeinek eloszlása": "2"
                                },
                                {
                                    "Ár": "278",
                                    "LISTAAR értékeinek eloszlása": "2"
                                },
                                {
                                    "Ár": "286",
                                    "LISTAAR értékeinek eloszlása": "2"
                                },
                                {
                                    "Ár": "293",
                                    "LISTAAR értékeinek eloszlása": "2"
                                },
                                {
                                    "Ár": "294",
                                    "LISTAAR értékeinek eloszlása": "1"
                                },
                                {
                                    "Ár": "297",
                                    "LISTAAR értékeinek eloszlása": "1"
                                },
                                {
                                    "Ár": "299",
                                    "LISTAAR értékeinek eloszlása": "1"
                                },
                                {
                                    "Ár": "308",
                                    "LISTAAR értékeinek eloszlása": "1"
                                },
                                {
                                    "Ár": "310",
                                    "LISTAAR értékeinek eloszlása": "1"
                                },
                                {
                                    "Ár": "314",
                                    "LISTAAR értékeinek eloszlása": "1"
                                },
                                {
                                    "Ár": "316",
                                    "LISTAAR értékeinek eloszlása": "1"
                                },
                                {
                                    "Ár": "290",
                                    "LISTAAR értékeinek eloszlása": "1"
                                },
                                {
                                    "Ár": "291",
                                    "LISTAAR értékeinek eloszlása": "1"
                                },
                                {
                                    "Ár": "249",
                                    "LISTAAR értékeinek eloszlása": "1"
                                },
                                {
                                    "Ár": "256",
                                    "LISTAAR értékeinek eloszlása": "1"
                                },
                                {
                                    "Ár": "259",
                                    "LISTAAR értékeinek eloszlása": "1"
                                },
                                {
                                    "Ár": "264",
                                    "LISTAAR értékeinek eloszlása": "1"
                                },
                                {
                                    "Ár": "364",
                                    "LISTAAR értékeinek eloszlása": "1"
                                },
                                {
                                    "Ár": "401",
                                    "LISTAAR értékeinek eloszlása": "1"
                                },
                                {
                                    "Ár": "328",
                                    "LISTAAR értékeinek eloszlása": "1"
                                },
                                {
                                    "Ár": "339",
                                    "LISTAAR értékeinek eloszlása": "1"
                                },
                                {
                                    "Ár": "342",
                                    "LISTAAR értékeinek eloszlása": "1"
                                },
                                {
                                    "Ár": "345",
                                    "LISTAAR értékeinek eloszlása": "1"
                                },
                                {
                                    "Ár": "353",
                                    "LISTAAR értékeinek eloszlása": "1"
                                },
                                {
                                    "Ár": "356",
                                    "LISTAAR értékeinek eloszlása": "1"
                                },
                                {
                                    "Ár": "426",
                                    "LISTAAR értékeinek eloszlása": "1"
                                },
                                {
                                    "Ár": "405",
                                    "LISTAAR értékeinek eloszlása": "1"
                                },
                                {
                                    "Ár": "410",
                                    "LISTAAR értékeinek eloszlása": "1"
                                },
                                {
                                    "Ár": "449",
                                    "LISTAAR értékeinek eloszlása": "1"
                                },
                                {
                                    "Ár": "455",
                                    "LISTAAR értékeinek eloszlása": "1"
                                },
                                {
                                    "Ár": "464",
                                    "LISTAAR értékeinek eloszlása": "1"
                                },
                                {
                                    "Ár": "468",
                                    "LISTAAR értékeinek eloszlása": "1"
                                },
                                {
                                    "Ár": "493",
                                    "LISTAAR értékeinek eloszlása": "1"
                                },
                                {
                                    "Ár": "220",
                                    "LISTAAR értékeinek eloszlása": "1"
                                },
                                {
                                    "Ár": "211",
                                    "LISTAAR értékeinek eloszlása": "1"
                                },
                                {
                                    "Ár": "230",
                                    "LISTAAR értékeinek eloszlása": "1"
                                },
                                {
                                    "Ár": "231",
                                    "LISTAAR értékeinek eloszlása": "1"
                                },
                                {
                                    "Ár": "235",
                                    "LISTAAR értékeinek eloszlása": "1"
                                },
                                {
                                    "Ár": "239",
                                    "LISTAAR értékeinek eloszlása": "1"
                                },
                                {
                                    "Ár": "188",
                                    "LISTAAR értékeinek eloszlása": "1"
                                },
                                {
                                    "Ár": "189",
                                    "LISTAAR értékeinek eloszlása": "1"
                                },
                                {
                                    "Ár": "190",
                                    "LISTAAR értékeinek eloszlása": "1"
                                },
                                {
                                    "Ár": "191",
                                    "LISTAAR értékeinek eloszlása": "1"
                                },
                                {
                                    "Ár": "198",
                                    "LISTAAR értékeinek eloszlása": "1"
                                },
                                {
                                    "Ár": "183",
                                    "LISTAAR értékeinek eloszlása": "1"
                                },
                                {
                                    "Ár": "173",
                                    "LISTAAR értékeinek eloszlása": "1"
                                },
                                {
                                    "Ár": "165",
                                    "LISTAAR értékeinek eloszlása": "1"
                                },
                                {
                                    "Ár": "166",
                                    "LISTAAR értékeinek eloszlása": "1"
                                },
                                {
                                    "Ár": "168",
                                    "LISTAAR értékeinek eloszlása": "1"
                                },
                                {
                                    "Ár": "131",
                                    "LISTAAR értékeinek eloszlása": "1"
                                },
                                {
                                    "Ár": "146",
                                    "LISTAAR értékeinek eloszlása": "1"
                                },
                                {
                                    "Ár": "41",
                                    "LISTAAR értékeinek eloszlása": "1"
                                },
                                {
                                    "Ár": "43",
                                    "LISTAAR értékeinek eloszlása": "1"
                                },
                                {
                                    "Ár": "50",
                                    "LISTAAR értékeinek eloszlása": "1"
                                },
                                {
                                    "Ár": "31",
                                    "LISTAAR értékeinek eloszlása": "1"
                                },
                                {
                                    "Ár": "38",
                                    "LISTAAR értékeinek eloszlása": "1"
                                },
                                {
                                    "Ár": "28",
                                    "LISTAAR értékeinek eloszlása": "1"
                                },
                                {
                                    "Ár": "29",
                                    "LISTAAR értékeinek eloszlása": "1"
                                },
                                {
                                    "Ár": "12",
                                    "LISTAAR értékeinek eloszlása": "1"
                                },
                                {
                                    "Ár": "13",
                                    "LISTAAR értékeinek eloszlása": "1"
                                },
                                {
                                    "Ár": "0",
                                    "LISTAAR értékeinek eloszlása": "1"
                                },
                                {
                                    "Ár": "5",
                                    "LISTAAR értékeinek eloszlása": "1"
                                },
                                {
                                    "Ár": "64",
                                    "LISTAAR értékeinek eloszlása": "1"
                                },
                                {
                                    "Ár": "60",
                                    "LISTAAR értékeinek eloszlása": "1"
                                },
                                {
                                    "Ár": "68",
                                    "LISTAAR értékeinek eloszlása": "1"
                                },
                                {
                                    "Ár": "70",
                                    "LISTAAR értékeinek eloszlása": "1"
                                },
                                {
                                    "Ár": "76",
                                    "LISTAAR értékeinek eloszlása": "1"
                                },
                                {
                                    "Ár": "79",
                                    "LISTAAR értékeinek eloszlása": "1"
                                },
                                {
                                    "Ár": "85",
                                    "LISTAAR értékeinek eloszlása": "1"
                                },
                                {
                                    "Ár": "91",
                                    "LISTAAR értékeinek eloszlása": "1"
                                },
                                {
                                    "Ár": "96",
                                    "LISTAAR értékeinek eloszlása": "1"
                                },
                                {
                                    "Ár": "99",
                                    "LISTAAR értékeinek eloszlása": "1"
                                },
                                {
                                    "Ár": "109",
                                    "LISTAAR értékeinek eloszlása": "1"
                                },
                                {
                                    "Ár": "123",
                                    "LISTAAR értékeinek eloszlása": "1"
                                },
                                {
                                    "Ár": "124",
                                    "LISTAAR értékeinek eloszlása": "1"
                                },
                                {
                                    "Ár": "119",
                                    "LISTAAR értékeinek eloszlása": "1"
                                },
                                {
                                    "Ár": "1351",
                                    "LISTAAR értékeinek eloszlása": "1"
                                },
                                {
                                    "Ár": "1377",
                                    "LISTAAR értékeinek eloszlása": "1"
                                },
                                {
                                    "Ár": "1488",
                                    "LISTAAR értékeinek eloszlása": "1"
                                },
                                {
                                    "Ár": "1500",
                                    "LISTAAR értékeinek eloszlása": "1"
                                },
                                {
                                    "Ár": "1765",
                                    "LISTAAR értékeinek eloszlása": "1"
                                },
                                {
                                    "Ár": "1990",
                                    "LISTAAR értékeinek eloszlása": "1"
                                },
                                {
                                    "Ár": "2100",
                                    "LISTAAR értékeinek eloszlása": "1"
                                },
                                {
                                    "Ár": "773",
                                    "LISTAAR értékeinek eloszlása": "1"
                                },
                                {
                                    "Ár": "780",
                                    "LISTAAR értékeinek eloszlása": "1"
                                },
                                {
                                    "Ár": "785",
                                    "LISTAAR értékeinek eloszlása": "1"
                                },
                                {
                                    "Ár": "794",
                                    "LISTAAR értékeinek eloszlása": "1"
                                },
                                {
                                    "Ár": "845",
                                    "LISTAAR értékeinek eloszlása": "1"
                                },
                                {
                                    "Ár": "868",
                                    "LISTAAR értékeinek eloszlása": "1"
                                },
                                {
                                    "Ár": "875",
                                    "LISTAAR értékeinek eloszlása": "1"
                                },
                                {
                                    "Ár": "674",
                                    "LISTAAR értékeinek eloszlása": "1"
                                },
                                {
                                    "Ár": "684",
                                    "LISTAAR értékeinek eloszlása": "1"
                                },
                                {
                                    "Ár": "686",
                                    "LISTAAR értékeinek eloszlása": "1"
                                },
                                {
                                    "Ár": "690",
                                    "LISTAAR értékeinek eloszlása": "1"
                                },
                                {
                                    "Ár": "691",
                                    "LISTAAR értékeinek eloszlása": "1"
                                },
                                {
                                    "Ár": "699",
                                    "LISTAAR értékeinek eloszlása": "1"
                                },
                                {
                                    "Ár": "720",
                                    "LISTAAR értékeinek eloszlása": "1"
                                },
                                {
                                    "Ár": "551",
                                    "LISTAAR értékeinek eloszlása": "1"
                                },
                                {
                                    "Ár": "581",
                                    "LISTAAR értékeinek eloszlása": "1"
                                },
                                {
                                    "Ár": "625",
                                    "LISTAAR értékeinek eloszlása": "1"
                                },
                                {
                                    "Ár": "633",
                                    "LISTAAR értékeinek eloszlása": "1"
                                },
                                {
                                    "Ár": "650",
                                    "LISTAAR értékeinek eloszlása": "1"
                                },
                                {
                                    "Ár": "511",
                                    "LISTAAR értékeinek eloszlása": "1"
                                },
                                {
                                    "Ár": "438",
                                    "LISTAAR értékeinek eloszlása": "1"
                                },
                                {
                                    "Ár": "22000",
                                    "LISTAAR értékeinek eloszlása": "1"
                                },
                                {
                                    "Ár": "24000",
                                    "LISTAAR értékeinek eloszlása": "1"
                                },
                                {
                                    "Ár": "32000",
                                    "LISTAAR értékeinek eloszlása": "1"
                                },
                                {
                                    "Ár": "39000",
                                    "LISTAAR értékeinek eloszlása": "1"
                                },
                                {
                                    "Ár": "46000",
                                    "LISTAAR értékeinek eloszlása": "1"
                                },
                                {
                                    "Ár": "11900",
                                    "LISTAAR értékeinek eloszlása": "1"
                                },
                                {
                                    "Ár": "14250",
                                    "LISTAAR értékeinek eloszlása": "1"
                                },
                                {
                                    "Ár": "8290",
                                    "LISTAAR értékeinek eloszlása": "1"
                                },
                                {
                                    "Ár": "7890",
                                    "LISTAAR értékeinek eloszlása": "1"
                                },
                                {
                                    "Ár": "6490",
                                    "LISTAAR értékeinek eloszlása": "1"
                                },
                                {
                                    "Ár": "1019",
                                    "LISTAAR értékeinek eloszlása": "1"
                                },
                                {
                                    "Ár": "735",
                                    "LISTAAR értékeinek eloszlása": "1"
                                },
                                {
                                    "Ár": "4575",
                                    "LISTAAR értékeinek eloszlása": "1"
                                },
                                {
                                    "Ár": "1147",
                                    "LISTAAR értékeinek eloszlása": "1"
                                },
                                {
                                    "Ár": "1173",
                                    "LISTAAR értékeinek eloszlása": "1"
                                }
                            ]
                        },
                        "text/html": "<table><tr><th>Ár</th><th>LISTAAR értékeinek eloszlása</th></tr><tr><td>30</td><td>16</td></tr><tr><td>44</td><td>16</td></tr><tr><td>89</td><td>15</td></tr><tr><td>15</td><td>14</td></tr><tr><td>103</td><td>12</td></tr><tr><td>161</td><td>12</td></tr><tr><td>36</td><td>10</td></tr><tr><td>40</td><td>9</td></tr><tr><td>23</td><td>9</td></tr><tr><td>81</td><td>9</td></tr><tr><td>133</td><td>9</td></tr><tr><td>55</td><td>8</td></tr><tr><td>59</td><td>8</td></tr><tr><td>19</td><td>8</td></tr><tr><td>11</td><td>7</td></tr><tr><td>48</td><td>7</td></tr><tr><td>33</td><td>7</td></tr><tr><td>148</td><td>7</td></tr><tr><td>144</td><td>6</td></tr><tr><td>8</td><td>6</td></tr><tr><td>26</td><td>6</td></tr><tr><td>73</td><td>6</td></tr><tr><td>74</td><td>5</td></tr><tr><td>78</td><td>5</td></tr><tr><td>63</td><td>5</td></tr><tr><td>106</td><td>5</td></tr><tr><td>110</td><td>5</td></tr><tr><td>728</td><td>5</td></tr><tr><td>93</td><td>4</td></tr><tr><td>56</td><td>4</td></tr><tr><td>66</td><td>4</td></tr><tr><td>24</td><td>4</td></tr><tr><td>34</td><td>4</td></tr><tr><td>39</td><td>4</td></tr><tr><td>51</td><td>4</td></tr><tr><td>169</td><td>4</td></tr><tr><td>180</td><td>4</td></tr><tr><td>214</td><td>4</td></tr><tr><td>228</td><td>4</td></tr><tr><td>390</td><td>4</td></tr><tr><td>324</td><td>3</td></tr><tr><td>403</td><td>3</td></tr><tr><td>440</td><td>3</td></tr><tr><td>206</td><td>3</td></tr><tr><td>195</td><td>3</td></tr><tr><td>184</td><td>3</td></tr><tr><td>185</td><td>3</td></tr><tr><td>176</td><td>3</td></tr><tr><td>155</td><td>3</td></tr><tr><td>140</td><td>3</td></tr><tr><td>125</td><td>3</td></tr><tr><td>129</td><td>3</td></tr><tr><td>49</td><td>3</td></tr><tr><td>14</td><td>3</td></tr><tr><td>35</td><td>3</td></tr><tr><td>20</td><td>3</td></tr><tr><td>9</td><td>3</td></tr><tr><td>3</td><td>3</td></tr><tr><td>58</td><td>3</td></tr><tr><td>118</td><td>3</td></tr><tr><td>1089</td><td>3</td></tr><tr><td>3900</td><td>2</td></tr><tr><td>990</td><td>2</td></tr><tr><td>4990</td><td>2</td></tr><tr><td>6900</td><td>2</td></tr><tr><td>7900</td><td>2</td></tr><tr><td>8000</td><td>2</td></tr><tr><td>8900</td><td>2</td></tr><tr><td>16900</td><td>2</td></tr><tr><td>203</td><td>2</td></tr><tr><td>434</td><td>2</td></tr><tr><td>508</td><td>2</td></tr><tr><td>526</td><td>2</td></tr><tr><td>655</td><td>2</td></tr><tr><td>765</td><td>2</td></tr><tr><td>1290</td><td>2</td></tr><tr><td>121</td><td>2</td></tr><tr><td>114</td><td>2</td></tr><tr><td>115</td><td>2</td></tr><tr><td>94</td><td>2</td></tr><tr><td>95</td><td>2</td></tr><tr><td>80</td><td>2</td></tr><tr><td>101</td><td>2</td></tr><tr><td>61</td><td>2</td></tr><tr><td>65</td><td>2</td></tr><tr><td>4</td><td>2</td></tr><tr><td>6</td><td>2</td></tr><tr><td>10</td><td>2</td></tr><tr><td>18</td><td>2</td></tr><tr><td>25</td><td>2</td></tr><tr><td>53</td><td>2</td></tr><tr><td>45</td><td>2</td></tr><tr><td>46</td><td>2</td></tr><tr><td>175</td><td>2</td></tr><tr><td>210</td><td>2</td></tr><tr><td>218</td><td>2</td></tr><tr><td>411</td><td>2</td></tr><tr><td>360</td><td>2</td></tr><tr><td>240</td><td>2</td></tr><tr><td>243</td><td>2</td></tr><tr><td>273</td><td>2</td></tr><tr><td>276</td><td>2</td></tr><tr><td>278</td><td>2</td></tr><tr><td>286</td><td>2</td></tr><tr><td>293</td><td>2</td></tr><tr><td>294</td><td>1</td></tr><tr><td>297</td><td>1</td></tr><tr><td>299</td><td>1</td></tr><tr><td>308</td><td>1</td></tr><tr><td>310</td><td>1</td></tr><tr><td>314</td><td>1</td></tr><tr><td>316</td><td>1</td></tr><tr><td>290</td><td>1</td></tr><tr><td>291</td><td>1</td></tr><tr><td>249</td><td>1</td></tr><tr><td>256</td><td>1</td></tr><tr><td>259</td><td>1</td></tr><tr><td>264</td><td>1</td></tr><tr><td>364</td><td>1</td></tr><tr><td>401</td><td>1</td></tr><tr><td>328</td><td>1</td></tr><tr><td>339</td><td>1</td></tr><tr><td>342</td><td>1</td></tr><tr><td>345</td><td>1</td></tr><tr><td>353</td><td>1</td></tr><tr><td>356</td><td>1</td></tr><tr><td>426</td><td>1</td></tr><tr><td>405</td><td>1</td></tr><tr><td>410</td><td>1</td></tr><tr><td>449</td><td>1</td></tr><tr><td>455</td><td>1</td></tr><tr><td>464</td><td>1</td></tr><tr><td>468</td><td>1</td></tr><tr><td>493</td><td>1</td></tr><tr><td>220</td><td>1</td></tr><tr><td>211</td><td>1</td></tr><tr><td>230</td><td>1</td></tr><tr><td>231</td><td>1</td></tr><tr><td>235</td><td>1</td></tr><tr><td>239</td><td>1</td></tr><tr><td>188</td><td>1</td></tr><tr><td>189</td><td>1</td></tr><tr><td>190</td><td>1</td></tr><tr><td>191</td><td>1</td></tr><tr><td>198</td><td>1</td></tr><tr><td>183</td><td>1</td></tr><tr><td>173</td><td>1</td></tr><tr><td>165</td><td>1</td></tr><tr><td>166</td><td>1</td></tr><tr><td>168</td><td>1</td></tr><tr><td>131</td><td>1</td></tr><tr><td>146</td><td>1</td></tr><tr><td>41</td><td>1</td></tr><tr><td>43</td><td>1</td></tr><tr><td>50</td><td>1</td></tr><tr><td>31</td><td>1</td></tr><tr><td>38</td><td>1</td></tr><tr><td>28</td><td>1</td></tr><tr><td>29</td><td>1</td></tr><tr><td>12</td><td>1</td></tr><tr><td>13</td><td>1</td></tr><tr><td>0</td><td>1</td></tr><tr><td>5</td><td>1</td></tr><tr><td>64</td><td>1</td></tr><tr><td>60</td><td>1</td></tr><tr><td>68</td><td>1</td></tr><tr><td>70</td><td>1</td></tr><tr><td>76</td><td>1</td></tr><tr><td>79</td><td>1</td></tr><tr><td>85</td><td>1</td></tr><tr><td>91</td><td>1</td></tr><tr><td>96</td><td>1</td></tr><tr><td>99</td><td>1</td></tr><tr><td>109</td><td>1</td></tr><tr><td>123</td><td>1</td></tr><tr><td>124</td><td>1</td></tr><tr><td>119</td><td>1</td></tr><tr><td>1351</td><td>1</td></tr><tr><td>1377</td><td>1</td></tr><tr><td>1488</td><td>1</td></tr><tr><td>1500</td><td>1</td></tr><tr><td>1765</td><td>1</td></tr><tr><td>1990</td><td>1</td></tr><tr><td>2100</td><td>1</td></tr><tr><td>773</td><td>1</td></tr><tr><td>780</td><td>1</td></tr><tr><td>785</td><td>1</td></tr><tr><td>794</td><td>1</td></tr><tr><td>845</td><td>1</td></tr><tr><td>868</td><td>1</td></tr><tr><td>875</td><td>1</td></tr><tr><td>674</td><td>1</td></tr><tr><td>684</td><td>1</td></tr><tr><td>686</td><td>1</td></tr><tr><td>690</td><td>1</td></tr><tr><td>691</td><td>1</td></tr><tr><td>699</td><td>1</td></tr><tr><td>720</td><td>1</td></tr><tr><td>551</td><td>1</td></tr><tr><td>581</td><td>1</td></tr><tr><td>625</td><td>1</td></tr><tr><td>633</td><td>1</td></tr><tr><td>650</td><td>1</td></tr><tr><td>511</td><td>1</td></tr><tr><td>438</td><td>1</td></tr><tr><td>22000</td><td>1</td></tr><tr><td>24000</td><td>1</td></tr><tr><td>32000</td><td>1</td></tr><tr><td>39000</td><td>1</td></tr><tr><td>46000</td><td>1</td></tr><tr><td>11900</td><td>1</td></tr><tr><td>14250</td><td>1</td></tr><tr><td>8290</td><td>1</td></tr><tr><td>7890</td><td>1</td></tr><tr><td>6490</td><td>1</td></tr><tr><td>1019</td><td>1</td></tr><tr><td>735</td><td>1</td></tr><tr><td>4575</td><td>1</td></tr><tr><td>1147</td><td>1</td></tr><tr><td>1173</td><td>1</td></tr></table>"
                    },
                    "metadata": {}
                }
            ],
            "execution_count": 17
        }
    ]
}